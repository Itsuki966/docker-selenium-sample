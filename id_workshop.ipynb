{
  "nbformat": 4,
  "nbformat_minor": 0,
  "metadata": {
    "colab": {
      "provenance": [],
      "collapsed_sections": [
        "rXDoYE2b7wTg",
        "VEIKN3u7frmx"
      ],
      "authorship_tag": "ABX9TyNqMrYyHmFEOMVRy8Hiyhdf",
      "include_colab_link": true
    },
    "kernelspec": {
      "name": "python3",
      "display_name": "Python 3"
    },
    "language_info": {
      "name": "python"
    }
  },
  "cells": [
    {
      "cell_type": "markdown",
      "metadata": {
        "id": "view-in-github",
        "colab_type": "text"
      },
      "source": [
        "<a href=\"https://colab.research.google.com/github/Itsuki966/docker-selenium-sample/blob/main/id_workshop.ipynb\" target=\"_parent\"><img src=\"https://colab.research.google.com/assets/colab-badge.svg\" alt=\"Open In Colab\"/></a>"
      ]
    },
    {
      "cell_type": "code",
      "source": [
        "!pip install japanize-matplotlib"
      ],
      "metadata": {
        "id": "kWCmK26H-unb",
        "collapsed": true
      },
      "execution_count": null,
      "outputs": []
    },
    {
      "cell_type": "code",
      "execution_count": null,
      "metadata": {
        "id": "JAilEreUrXln"
      },
      "outputs": [],
      "source": [
        "# 必要なライブラリのインポート\n",
        "import pandas as pd\n",
        "import numpy as np\n",
        "import matplotlib.pyplot as plt\n",
        "import openpyxl\n",
        "import japanize_matplotlib\n",
        "import geopandas as gpd\n",
        "from sklearn.cluster import KMeans"
      ]
    },
    {
      "cell_type": "markdown",
      "source": [
        "# データを読み込む"
      ],
      "metadata": {
        "id": "-3-meGyp6zRV"
      }
    },
    {
      "cell_type": "code",
      "source": [
        "# データを読み込むための関数\n",
        "def load_data(year):\n",
        "  data = pd.read_excel(\"city_data.xlsx\", sheet_name = str(year), index_col=0)\n",
        "  return data"
      ],
      "metadata": {
        "id": "Ajfn60FM1sAp"
      },
      "execution_count": 156,
      "outputs": []
    },
    {
      "cell_type": "code",
      "source": [
        "data_2000 = load_data(2000)\n",
        "data_2005 = load_data(2005)\n",
        "data_2010 = load_data(2010)\n",
        "data_2015 = load_data(2015)\n",
        "data_list = [data_2000, data_2005, data_2010, data_2015]"
      ],
      "metadata": {
        "id": "JyP_QjyT3fnH"
      },
      "execution_count": 230,
      "outputs": []
    },
    {
      "cell_type": "markdown",
      "source": [
        "# データの前処理"
      ],
      "metadata": {
        "id": "LCK0BNXM69ZC"
      }
    },
    {
      "cell_type": "code",
      "source": [
        "# 欠損値を削除する関数\n",
        "def preprocessing(data):\n",
        "  data.dropna(inplace=True)\n",
        "  data.replace(\"-\", 0, inplace=True)\n",
        "  data.reset_index(drop=True, inplace=True)\n",
        "\n",
        "def add_next_year_population(data, data_next):\n",
        "  temp = data_next[[\"code\",\"総人口\"]]\n",
        "  temp.rename(columns={\"総人口\":\"次の総人口\"}, inplace=True)\n",
        "  data = pd.merge(data, temp, on=\"code\", how=\"inner\")\n",
        "  return data\n",
        "\n",
        "def calc_population_rate(data):\n",
        "  data[\"前年比人口\"] = data[\"次の総人口\"] / data[\"総人口\"]"
      ],
      "metadata": {
        "id": "DChYU0LJ6CYU"
      },
      "execution_count": 231,
      "outputs": []
    },
    {
      "cell_type": "code",
      "source": [
        "for d in data_list:\n",
        "  preprocessing(d)\n",
        "\n",
        "for i in range(len(data_list)-1):\n",
        "  data_list[i] = add_next_year_population(data_list[i], data_list[i+1])\n",
        "  calc_population_rate(data_list[i])"
      ],
      "metadata": {
        "id": "FIexGid17bUg"
      },
      "execution_count": null,
      "outputs": []
    },
    {
      "cell_type": "code",
      "source": [
        "# 全てのデータを結合 (教師あり学習で利用するデータを作成)\n",
        "conbined_data = pd.concat(data_list[:3])\n",
        "conbined_data.reset_index(drop=True, inplace=True)"
      ],
      "metadata": {
        "id": "KhQ_es9s7E5Y"
      },
      "execution_count": 233,
      "outputs": []
    },
    {
      "cell_type": "markdown",
      "source": [
        "# 教師なし学習\n",
        "市町村の分類をしてみよう"
      ],
      "metadata": {
        "id": "rXDoYE2b7wTg"
      }
    },
    {
      "cell_type": "markdown",
      "source": [
        "\n",
        "## 利用できるデータ項目\n",
        "*   予算関係のデータ\n",
        "> '歳出決算額', '社会福祉費', '老人福祉費', '児童福祉費', '農林水産業費', '商工費', '都市計画費', '住宅費', '財政力指標'\n",
        "\n",
        "*   教育関連のデータ\n",
        "> '教育費', '小学校費', '中学校費', '高校費', '幼稚園費', '小学校数', '小学校教員数', '中学校数', '中学校教員数', '高校数'\n",
        "*   医療関連のデータ\n",
        "> '介護老人福祉施設(65歳以上人口10万人当たり)', '一般病院数/10万人', '一般診療所数/10万人', '一般病院数/可住地面積', '一般診療所数/可住地面積'\n",
        "*   人口データ\n",
        "> '自市区町村で従業・通学している人口', '流出人口（県内他市区町村で従業・通学している人口）',\n",
        "'流出人口（他県で従業・通学している人口）', '流入人口（県内他市区町村に常住している人口）', '流入人口（他県に常住している人口）', '若年層人口', '総人口', '昼夜間人口比率(%)'\n",
        "*   産業構造データ\n",
        "> '第一次産業就業者', '第二次産業就業者', '第三次産業就業者'\n",
        "\n",
        "\n",
        "\n",
        "\n",
        "\n",
        "\n",
        "\n",
        "\n",
        "\n"
      ],
      "metadata": {
        "id": "npSlnavlBKPn"
      }
    },
    {
      "cell_type": "code",
      "source": [
        "# 分析対象データ（2000年のデータは\"0\"、2005年は\"1\"、2010年は\"2\"、2015年は\"3\"）\n",
        "o_data = data_list[3]\n",
        "\n",
        "# 利用するデータ項目を指定\n",
        "cols = ['第二次産業就業者', '第一次産業就業者']\n",
        "\n",
        "o_data = o_data[cols]\n",
        "o_data[\"city\"] = list(data_list[3][\"area\"])\n",
        "o_data[\"code\"] = list(data_list[3][\"code\"].astype(\"str\"))"
      ],
      "metadata": {
        "id": "OAjeimGO_XlB"
      },
      "execution_count": null,
      "outputs": []
    },
    {
      "cell_type": "code",
      "source": [
        "wcss = []\n",
        "for i in range(1, 11):\n",
        "  kmeans = KMeans(n_clusters=i, init='k-means++', max_iter=300, n_init=10, random_state=0)\n",
        "  kmeans.fit(o_data[cols])\n",
        "  wcss.append(kmeans.inertia_)\n",
        "\n",
        "plt.plot(range(1, 11), wcss)\n",
        "plt.title(\"エルボー法\")\n",
        "plt.xlabel(\"クラスタ数\")\n",
        "plt.ylabel(\"WCSS\")\n",
        "plt.show()\n",
        "# 肘に相当する部分がクラスタ数"
      ],
      "metadata": {
        "id": "IiYy2iwI7z80"
      },
      "execution_count": null,
      "outputs": []
    },
    {
      "cell_type": "code",
      "source": [
        "# cluster_numをエルボー法の結果に応じて指定\n",
        "cluster_num = 3\n",
        "kmeans = KMeans(n_clusters=cluster_num, init='k-means++', max_iter=300, n_init=10, random_state=0)\n",
        "result = kmeans.fit_predict(o_data[cols])\n",
        "\n",
        "o_data[\"cluster\"] = result\n",
        "\n",
        "plt.scatter(o_data[cols[0]], o_data[cols[1]], c=result, cmap='rainbow')\n",
        "plt.xlabel(cols[0])\n",
        "plt.ylabel(cols[1])\n",
        "plt.show()"
      ],
      "metadata": {
        "id": "hEutnNW5_G6H"
      },
      "execution_count": null,
      "outputs": []
    },
    {
      "cell_type": "code",
      "source": [
        "# 各クラスタにどのような市町村が分類されているのかを表示\n",
        "for c in range(cluster_num):\n",
        "  print(f\"cluster {c}\")\n",
        "  print(list(o_data[o_data[\"cluster\"] == c][\"city\"]))\n",
        "  print(\"\")"
      ],
      "metadata": {
        "id": "wnF8okCmg2GJ"
      },
      "execution_count": null,
      "outputs": []
    },
    {
      "cell_type": "markdown",
      "source": [
        "## 日本地図に落とし込む (ビミョー)"
      ],
      "metadata": {
        "id": "VEIKN3u7frmx"
      }
    },
    {
      "cell_type": "code",
      "source": [
        "map = gpd.read_file(\"N03-18_180101.shp\", encoding=\"cp932\")"
      ],
      "metadata": {
        "id": "J1trN68ZkBAE"
      },
      "execution_count": 115,
      "outputs": []
    },
    {
      "cell_type": "code",
      "source": [
        "def add_zero(code):\n",
        "  if len(code) == 4:\n",
        "    return \"0\" + code\n",
        "  else:\n",
        "    return code"
      ],
      "metadata": {
        "id": "eVuNcoD0dgZo"
      },
      "execution_count": 116,
      "outputs": []
    },
    {
      "cell_type": "code",
      "source": [
        "o_data[\"code\"] = o_data[\"code\"].apply(add_zero)\n",
        "\n",
        "temp_city = list(map[map[\"N03_004\"].str.contains(\"区\")][\"N03_003\"])\n",
        "temp_city = list(set(temp_city))\n",
        "temp_city.remove(None)\n",
        "\n",
        "for i in temp_city:\n",
        "  new_code = o_data[o_data[\"city\"].str.contains(i)][\"code\"]\n",
        "  indexes = list(map[map[\"N03_003\"]==i].index)\n",
        "  map.loc[list(map[map[\"N03_003\"]==i].index), \"N03_007\"] = new_code\n",
        "\n",
        "japan_map = map.copy()\n",
        "japan_map.drop([\"N03_001\",\"N03_002\"], axis=1, inplace=True)\n",
        "japan_map.rename(columns={\"N03_007\":\"code\"}, inplace=True)\n",
        "\n",
        "plot_data = pd.merge(japan_map, o_data, on=\"code\", how='inner')"
      ],
      "metadata": {
        "id": "ULiy8USgfzoi"
      },
      "execution_count": 119,
      "outputs": []
    },
    {
      "cell_type": "code",
      "source": [
        "# マップを表示する\n",
        "plot_data.plot(\n",
        "    column=\"cluster\",\n",
        "    cmap=\"rainbow\",\n",
        "    legend=True,\n",
        ")"
      ],
      "metadata": {
        "id": "ytfPyKebmBfu"
      },
      "execution_count": null,
      "outputs": []
    },
    {
      "cell_type": "markdown",
      "source": [
        "# 教師あり学習\n",
        "2020年の前年比人口を予測してみよう"
      ],
      "metadata": {
        "id": "tegqA2x42Z10"
      }
    },
    {
      "cell_type": "code",
      "source": [
        "!pip install lightgbm"
      ],
      "metadata": {
        "colab": {
          "base_uri": "https://localhost:8080/"
        },
        "id": "SxeUtd7N20DF",
        "outputId": "efb40441-d751-4be3-f295-8c419aa7f9fc"
      },
      "execution_count": 146,
      "outputs": [
        {
          "output_type": "stream",
          "name": "stdout",
          "text": [
            "Requirement already satisfied: lightgbm in /usr/local/lib/python3.11/dist-packages (4.5.0)\n",
            "Requirement already satisfied: numpy>=1.17.0 in /usr/local/lib/python3.11/dist-packages (from lightgbm) (1.26.4)\n",
            "Requirement already satisfied: scipy in /usr/local/lib/python3.11/dist-packages (from lightgbm) (1.13.1)\n"
          ]
        }
      ]
    },
    {
      "cell_type": "code",
      "source": [
        "import lightgbm as lgb\n",
        "from sklearn.model_selection import train_test_split\n",
        "from sklearn.metrics import mean_squared_error"
      ],
      "metadata": {
        "id": "ueW8Q20u3Dh8"
      },
      "execution_count": 202,
      "outputs": []
    },
    {
      "cell_type": "code",
      "source": [
        "# 目的変数\n",
        "y = conbined_data[\"前年比人口\"]\n",
        "\n",
        "# 説明変数\n",
        "x = conbined_data.drop([\"year\",\"code\",\"area\",\"次の総人口\",\"前年比人口\"], axis=1)\n",
        "\n",
        "# データを訓練用とテスト用に分割\n",
        "x_train, x_test, y_train, y_test = train_test_split(x, y, test_size=0.2, random_state=0)"
      ],
      "metadata": {
        "id": "ktptafsq-SLe"
      },
      "execution_count": 239,
      "outputs": []
    },
    {
      "cell_type": "code",
      "source": [
        "model = lgb.LGBMRegressor()\n",
        "\n",
        "# 学習データを利用したモデルの学習\n",
        "model.fit(x_train, y_train)\n",
        "\n",
        "# モデルの評価\n",
        "mse = mean_squared_error(y_test, model.predict(x_test))\n",
        "\n",
        "print(\"\")\n",
        "print(\"MSEが小さければ小さいほどモデルの精度が高いことを示す\")\n",
        "print(f\"MSE: {mse}\")"
      ],
      "metadata": {
        "collapsed": true,
        "id": "DqQcFv1jCOKq"
      },
      "execution_count": null,
      "outputs": []
    },
    {
      "cell_type": "markdown",
      "source": [
        "## 学習済みのモデルと2015年のデータを利用して2020年の前年比人口を予測する"
      ],
      "metadata": {
        "id": "f7pJW2IjG2eE"
      }
    },
    {
      "cell_type": "code",
      "source": [
        "# 2015年のデータを用意\n",
        "data_2015[\"昼夜間人口比率(%)\"] = data_2015[\"昼夜間人口比率(%)\"].astype(\"float\")\n",
        "x_2015 = data_2015.drop([\"year\",\"code\",\"area\"], axis=1)\n",
        "\n",
        "# 予測\n",
        "pred_2015_y = model.predict(x_2015)"
      ],
      "metadata": {
        "id": "2bCuReGmGtWf"
      },
      "execution_count": 256,
      "outputs": []
    },
    {
      "cell_type": "code",
      "source": [
        "# 結果の表示\n",
        "temp = zip(list(data_2015[\"area\"]), pred_2015_y)\n",
        "sorted(temp, key=lambda x:x[1], reverse=True)"
      ],
      "metadata": {
        "id": "zW7ERyXHH9K2"
      },
      "execution_count": null,
      "outputs": []
    }
  ]
}